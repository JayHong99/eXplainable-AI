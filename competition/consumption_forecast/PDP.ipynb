{
 "cells": [
  {
   "cell_type": "code",
   "execution_count": 1,
   "metadata": {},
   "outputs": [],
   "source": [
    "import pandas as pd\n",
    "from pathlib import Path\n",
    "from sklearn.preprocessing import OneHotEncoder\n",
    "\n",
    "pd.set_option('display.max_columns',50)"
   ]
  },
  {
   "cell_type": "code",
   "execution_count": 2,
   "metadata": {},
   "outputs": [],
   "source": [
    "class preprocess_data: \n",
    "    def __init__(self, data_path : Path) :\n",
    "        self.data_path = data_path\n",
    "        self.datetime_column = 'Dt_Customer'\n",
    "        self.categorical_columns = ['Year_Birth' , 'Education', 'Marital_Status',\n",
    "                            'Income', 'Kidhome', 'Teenhome','Recency', 'month','day','year']\n",
    "        self.drop_columns = ['id', self.datetime_column] + self.categorical_columns\n",
    "    \n",
    "    def load_data(self) -> [pd.DataFrame, pd.DataFrame]:\n",
    "        self.train = pd.read_csv(Path(self.data_path, Path('train.csv')))\n",
    "        self.test = pd.read_csv(Path(self.data_path, Path('test.csv')))\n",
    "        \n",
    "    def preprocess_date(self) -> [pd.DataFrame, pd.DataFrame] : \n",
    "        self.train = self.date_features(self.train, self.datetime_column)\n",
    "        self.test = self.date_features(self.test, self.datetime_column)\n",
    "\n",
    "    def date_features(self, df, column) -> pd.DataFrame : \n",
    "        df[column] = pd.to_datetime(df[column], format = '%d-%m-%Y')\n",
    "        df['year'] = df[column].apply(lambda x : x.year)\n",
    "        df['month'] = df[column].apply(lambda x : x.month)\n",
    "        df['day'] = df[column].apply(lambda x : x.day)\n",
    "        return df\n",
    "\n",
    "\n",
    "    def preprocess_categorical(self) -> [pd.DataFrame, pd.DataFrame] : \n",
    "        \n",
    "        encoder = OneHotEncoder(max_categories=5, handle_unknown='ignore')\n",
    "        train_oh = encoder.fit_transform(self.train[self.categorical_columns])\n",
    "        test_oh = encoder.transform(self.test[self.categorical_columns])\n",
    "\n",
    "        columns = encoder.get_feature_names_out(self.categorical_columns)\n",
    "        train_oh = pd.DataFrame(train_oh.toarray(), columns = columns)\n",
    "        test_oh = pd.DataFrame(test_oh.toarray(), columns = columns)\n",
    "\n",
    "        self.train = pd.concat([self.train, train_oh], axis = 1)\n",
    "        self.test = pd.concat([self.test, test_oh], axis = 1)\n",
    "\n",
    "\n",
    "    def preprocess(self) :  \n",
    "        self.load_data()\n",
    "        self.preprocess_date()\n",
    "        self.preprocess_categorical()\n",
    "        self.train.drop(columns = self.drop_columns, inplace = True)        \n",
    "        self.test.drop(columns = self.drop_columns, inplace = True)        \n",
    "        return self.train, self.test\n"
   ]
  },
  {
   "cell_type": "code",
   "execution_count": 3,
   "metadata": {},
   "outputs": [],
   "source": [
    "data_path = Path('./data')\n",
    "preprocessor = preprocess_data(data_path)\n",
    "train, test = preprocessor.preprocess()"
   ]
  },
  {
   "cell_type": "markdown",
   "metadata": {},
   "source": [
    "# Modeling"
   ]
  },
  {
   "cell_type": "markdown",
   "metadata": {},
   "source": [
    "### Hold-out"
   ]
  },
  {
   "cell_type": "code",
   "execution_count": 4,
   "metadata": {},
   "outputs": [],
   "source": [
    "from sklearn.model_selection import train_test_split"
   ]
  },
  {
   "cell_type": "code",
   "execution_count": 5,
   "metadata": {},
   "outputs": [],
   "source": [
    "train_idx, valid_idx = train_test_split(train.index, shuffle = True, random_state = 0)\n",
    "X_train = train.iloc[train_idx].drop(columns = ['target'])\n",
    "X_valid = train.iloc[valid_idx].drop(columns = ['target'])\n",
    "y_train = train['target'].iloc[train_idx]\n",
    "y_valid = train['target'].iloc[valid_idx]"
   ]
  },
  {
   "cell_type": "markdown",
   "metadata": {},
   "source": [
    "### Modeling"
   ]
  },
  {
   "cell_type": "code",
   "execution_count": 14,
   "metadata": {},
   "outputs": [],
   "source": [
    "from sklearn.ensemble import RandomForestRegressor\n",
    "from sklearn.metrics import mean_absolute_error"
   ]
  },
  {
   "cell_type": "code",
   "execution_count": 15,
   "metadata": {},
   "outputs": [
    {
     "data": {
      "text/plain": [
       "144.7116633239738"
      ]
     },
     "execution_count": 15,
     "metadata": {},
     "output_type": "execute_result"
    }
   ],
   "source": [
    "model  = RandomForestRegressor(n_estimators = 30)\n",
    "model.fit(X_train, y_train)\n",
    "pred = model.predict(X_valid)\n",
    "mean_absolute_error(y_valid, pred)"
   ]
  },
  {
   "cell_type": "markdown",
   "metadata": {},
   "source": [
    "## Explain"
   ]
  },
  {
   "cell_type": "code",
   "execution_count": 16,
   "metadata": {},
   "outputs": [],
   "source": [
    "from sklearn.inspection import plot_partial_dependence, partial_dependence, PartialDependenceDisplay\n",
    "import matplotlib\n",
    "import matplotlib.pyplot as plt\n",
    "import seaborn as sns\n",
    "import numpy as np\n",
    "\n",
    "sns.set_style('whitegrid')\n",
    "matplotlib.rcParams['figure.dpi'] = 100"
   ]
  },
  {
   "cell_type": "code",
   "execution_count": 28,
   "metadata": {},
   "outputs": [
    {
     "data": {
      "image/png": "[encoded data removed]",
      "text/plain": [
       "<Figure size 432x288 with 4 Axes>"
      ]
     },
     "metadata": {
      "needs_background": "light"
     },
     "output_type": "display_data"
    }
   ],
   "source": [
    "features = [0, 1,(0, 1)]\n",
    "PartialDependenceDisplay.from_estimator(model, X_train, features)\n",
    "plt.show()"
   ]
  },
  {
   "cell_type": "code",
   "execution_count": null,
   "metadata": {},
   "outputs": [],
   "source": []
  }
 ],
 "metadata": {
  "interpreter": {
   "hash": "2037622a302bf67df783ffff39bc14c3c80e619cac531617a39e596959022ef1"
  },
  "kernelspec": {
   "display_name": "Python 3.9.7 ('.venv': poetry)",
   "language": "python",
   "name": "python3"
  },
  "language_info": {
   "codemirror_mode": {
    "name": "ipython",
    "version": 3
   },
   "file_extension": ".py",
   "mimetype": "text/x-python",
   "name": "python",
   "nbconvert_exporter": "python",
   "pygments_lexer": "ipython3",
   "version": "3.9.7"
  },
  "orig_nbformat": 4
 },
 "nbformat": 4,
 "nbformat_minor": 2
}
